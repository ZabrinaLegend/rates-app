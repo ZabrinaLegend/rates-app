{
 "cells": [
  {
   "cell_type": "markdown",
   "id": "87c6a9d4",
   "metadata": {},
   "source": [
    "# Rates Exploration\n"
   ]
  },
  {
   "cell_type": "code",
   "execution_count": 1,
   "id": "c215eaca",
   "metadata": {},
   "outputs": [],
   "source": [
    "import os\n",
    "import pandas as pd"
   ]
  },
  {
   "cell_type": "code",
   "execution_count": 45,
   "id": "4f347b49",
   "metadata": {},
   "outputs": [],
   "source": [
    "#pip install openpyxl matplotlib plotly"
   ]
  },
  {
   "cell_type": "markdown",
   "id": "b7ab992d",
   "metadata": {},
   "source": [
    "## Data Igestion"
   ]
  },
  {
   "cell_type": "code",
   "execution_count": 3,
   "id": "ffc49047",
   "metadata": {},
   "outputs": [],
   "source": [
    "main_path = os.getcwd()"
   ]
  },
  {
   "cell_type": "code",
   "execution_count": 4,
   "id": "25a0823f",
   "metadata": {},
   "outputs": [
    {
     "data": {
      "text/plain": [
       "'C:\\\\datahackerman_pz\\\\rates-app'"
      ]
     },
     "execution_count": 4,
     "metadata": {},
     "output_type": "execute_result"
    }
   ],
   "source": [
    "main_path"
   ]
  },
  {
   "cell_type": "code",
   "execution_count": 5,
   "id": "38a56549",
   "metadata": {},
   "outputs": [],
   "source": [
    "input_data_path = os.path.join(main_path, \"input_data\")"
   ]
  },
  {
   "cell_type": "code",
   "execution_count": 6,
   "id": "7a8e1ffc",
   "metadata": {},
   "outputs": [
    {
     "data": {
      "text/plain": [
       "'C:\\\\datahackerman_pz\\\\rates-app\\\\input_data'"
      ]
     },
     "execution_count": 6,
     "metadata": {},
     "output_type": "execute_result"
    }
   ],
   "source": [
    "input_data_path"
   ]
  },
  {
   "cell_type": "code",
   "execution_count": 7,
   "id": "7bd1a348",
   "metadata": {},
   "outputs": [],
   "source": [
    "rate_file_name = \"Rates.xlsx\""
   ]
  },
  {
   "cell_type": "code",
   "execution_count": 8,
   "id": "e71f9832",
   "metadata": {},
   "outputs": [],
   "source": [
    "rate_file_data_path = os.path.join(input_data_path, rate_file_name)"
   ]
  },
  {
   "cell_type": "code",
   "execution_count": 9,
   "id": "9f6e3ce7",
   "metadata": {},
   "outputs": [
    {
     "data": {
      "text/plain": [
       "'C:\\\\datahackerman_pz\\\\rates-app\\\\input_data\\\\Rates.xlsx'"
      ]
     },
     "execution_count": 9,
     "metadata": {},
     "output_type": "execute_result"
    }
   ],
   "source": [
    "rate_file_data_path"
   ]
  },
  {
   "cell_type": "code",
   "execution_count": 21,
   "id": "604e0033",
   "metadata": {},
   "outputs": [],
   "source": [
    "rate_data = pd.read_excel(rate_file_data_path, header=1) #skiprows=1)"
   ]
  },
  {
   "cell_type": "code",
   "execution_count": 22,
   "id": "485ae4c7",
   "metadata": {
    "scrolled": true
   },
   "outputs": [
    {
     "data": {
      "text/html": [
       "<div>\n",
       "<style scoped>\n",
       "    .dataframe tbody tr th:only-of-type {\n",
       "        vertical-align: middle;\n",
       "    }\n",
       "\n",
       "    .dataframe tbody tr th {\n",
       "        vertical-align: top;\n",
       "    }\n",
       "\n",
       "    .dataframe thead th {\n",
       "        text-align: right;\n",
       "    }\n",
       "</style>\n",
       "<table border=\"1\" class=\"dataframe\">\n",
       "  <thead>\n",
       "    <tr style=\"text-align: right;\">\n",
       "      <th></th>\n",
       "      <th>Unnamed: 0</th>\n",
       "      <th>GBPEUR</th>\n",
       "      <th>GBPUSD</th>\n",
       "      <th>GBPCHF</th>\n",
       "      <th>GBPAUD</th>\n",
       "      <th>GBPJPY</th>\n",
       "      <th>GBPCAD</th>\n",
       "      <th>GBPSEK</th>\n",
       "      <th>GBPNZD</th>\n",
       "      <th>GBPNOK</th>\n",
       "      <th>GBPPLN</th>\n",
       "    </tr>\n",
       "  </thead>\n",
       "  <tbody>\n",
       "    <tr>\n",
       "      <th>0</th>\n",
       "      <td>Date</td>\n",
       "      <td>PX_LAST</td>\n",
       "      <td>PX_LAST</td>\n",
       "      <td>PX_LAST</td>\n",
       "      <td>PX_LAST</td>\n",
       "      <td>PX_LAST</td>\n",
       "      <td>PX_LAST</td>\n",
       "      <td>PX_LAST</td>\n",
       "      <td>PX_LAST</td>\n",
       "      <td>PX_LAST</td>\n",
       "      <td>PX_LAST</td>\n",
       "    </tr>\n",
       "    <tr>\n",
       "      <th>1</th>\n",
       "      <td>2022-01-03 00:00:00</td>\n",
       "      <td>0.034417</td>\n",
       "      <td>0.058833</td>\n",
       "      <td>0.156028</td>\n",
       "      <td>0.003318</td>\n",
       "      <td>-0.13422</td>\n",
       "      <td>0.018315</td>\n",
       "      <td>-0.044198</td>\n",
       "      <td>-0.014144</td>\n",
       "      <td>-0.076295</td>\n",
       "      <td>0.090303</td>\n",
       "    </tr>\n",
       "    <tr>\n",
       "      <th>2</th>\n",
       "      <td>2022-01-04 00:00:00</td>\n",
       "      <td>0.039272</td>\n",
       "      <td>0.06276</td>\n",
       "      <td>0.156682</td>\n",
       "      <td>0.000321</td>\n",
       "      <td>-0.12484</td>\n",
       "      <td>0.019264</td>\n",
       "      <td>-0.042018</td>\n",
       "      <td>-0.013697</td>\n",
       "      <td>-0.074404</td>\n",
       "      <td>0.09174</td>\n",
       "    </tr>\n",
       "    <tr>\n",
       "      <th>3</th>\n",
       "      <td>2022-01-05 00:00:00</td>\n",
       "      <td>0.038838</td>\n",
       "      <td>0.064881</td>\n",
       "      <td>0.160228</td>\n",
       "      <td>0.004656</td>\n",
       "      <td>-0.12336</td>\n",
       "      <td>0.024895</td>\n",
       "      <td>-0.038531</td>\n",
       "      <td>-0.010074</td>\n",
       "      <td>-0.073168</td>\n",
       "      <td>0.093695</td>\n",
       "    </tr>\n",
       "    <tr>\n",
       "      <th>4</th>\n",
       "      <td>2022-01-06 00:00:00</td>\n",
       "      <td>0.038578</td>\n",
       "      <td>0.062917</td>\n",
       "      <td>0.163401</td>\n",
       "      <td>0.011025</td>\n",
       "      <td>-0.12704</td>\n",
       "      <td>0.020864</td>\n",
       "      <td>-0.036297</td>\n",
       "      <td>-0.004963</td>\n",
       "      <td>-0.070497</td>\n",
       "      <td>0.088827</td>\n",
       "    </tr>\n",
       "  </tbody>\n",
       "</table>\n",
       "</div>"
      ],
      "text/plain": [
       "            Unnamed: 0    GBPEUR    GBPUSD    GBPCHF    GBPAUD   GBPJPY  \\\n",
       "0                 Date   PX_LAST   PX_LAST   PX_LAST   PX_LAST  PX_LAST   \n",
       "1  2022-01-03 00:00:00  0.034417  0.058833  0.156028  0.003318 -0.13422   \n",
       "2  2022-01-04 00:00:00  0.039272   0.06276  0.156682  0.000321 -0.12484   \n",
       "3  2022-01-05 00:00:00  0.038838  0.064881  0.160228  0.004656 -0.12336   \n",
       "4  2022-01-06 00:00:00  0.038578  0.062917  0.163401  0.011025 -0.12704   \n",
       "\n",
       "     GBPCAD    GBPSEK    GBPNZD    GBPNOK    GBPPLN  \n",
       "0   PX_LAST   PX_LAST   PX_LAST   PX_LAST   PX_LAST  \n",
       "1  0.018315 -0.044198 -0.014144 -0.076295  0.090303  \n",
       "2  0.019264 -0.042018 -0.013697 -0.074404   0.09174  \n",
       "3  0.024895 -0.038531 -0.010074 -0.073168  0.093695  \n",
       "4  0.020864 -0.036297 -0.004963 -0.070497  0.088827  "
      ]
     },
     "execution_count": 22,
     "metadata": {},
     "output_type": "execute_result"
    }
   ],
   "source": [
    "rate_data.head()"
   ]
  },
  {
   "cell_type": "code",
   "execution_count": 23,
   "id": "1202c0c6",
   "metadata": {},
   "outputs": [],
   "source": [
    "rate_data = rate_data.drop(rate_data.index[0])"
   ]
  },
  {
   "cell_type": "code",
   "execution_count": 24,
   "id": "83f0d842",
   "metadata": {},
   "outputs": [
    {
     "data": {
      "text/plain": [
       "(571, 11)"
      ]
     },
     "execution_count": 24,
     "metadata": {},
     "output_type": "execute_result"
    }
   ],
   "source": [
    "rate_data.shape"
   ]
  },
  {
   "cell_type": "code",
   "execution_count": 46,
   "id": "a6fb8bcb",
   "metadata": {},
   "outputs": [],
   "source": [
    "rate_data = rate_data.rename(columns={'Data': 'Date'})"
   ]
  },
  {
   "cell_type": "code",
   "execution_count": 47,
   "id": "e4b404b8",
   "metadata": {},
   "outputs": [
    {
     "data": {
      "text/html": [
       "<div>\n",
       "<style scoped>\n",
       "    .dataframe tbody tr th:only-of-type {\n",
       "        vertical-align: middle;\n",
       "    }\n",
       "\n",
       "    .dataframe tbody tr th {\n",
       "        vertical-align: top;\n",
       "    }\n",
       "\n",
       "    .dataframe thead th {\n",
       "        text-align: right;\n",
       "    }\n",
       "</style>\n",
       "<table border=\"1\" class=\"dataframe\">\n",
       "  <thead>\n",
       "    <tr style=\"text-align: right;\">\n",
       "      <th></th>\n",
       "      <th>Date</th>\n",
       "      <th>GBPEUR</th>\n",
       "      <th>GBPUSD</th>\n",
       "      <th>GBPCHF</th>\n",
       "      <th>GBPAUD</th>\n",
       "      <th>GBPJPY</th>\n",
       "      <th>GBPCAD</th>\n",
       "      <th>GBPSEK</th>\n",
       "      <th>GBPNZD</th>\n",
       "      <th>GBPNOK</th>\n",
       "      <th>GBPPLN</th>\n",
       "    </tr>\n",
       "  </thead>\n",
       "  <tbody>\n",
       "    <tr>\n",
       "      <th>1</th>\n",
       "      <td>2022-01-03 00:00:00</td>\n",
       "      <td>0.034417</td>\n",
       "      <td>0.058833</td>\n",
       "      <td>0.156028</td>\n",
       "      <td>0.003318</td>\n",
       "      <td>-0.13422</td>\n",
       "      <td>0.018315</td>\n",
       "      <td>-0.044198</td>\n",
       "      <td>-0.014144</td>\n",
       "      <td>-0.076295</td>\n",
       "      <td>0.090303</td>\n",
       "    </tr>\n",
       "    <tr>\n",
       "      <th>2</th>\n",
       "      <td>2022-01-04 00:00:00</td>\n",
       "      <td>0.039272</td>\n",
       "      <td>0.06276</td>\n",
       "      <td>0.156682</td>\n",
       "      <td>0.000321</td>\n",
       "      <td>-0.12484</td>\n",
       "      <td>0.019264</td>\n",
       "      <td>-0.042018</td>\n",
       "      <td>-0.013697</td>\n",
       "      <td>-0.074404</td>\n",
       "      <td>0.09174</td>\n",
       "    </tr>\n",
       "    <tr>\n",
       "      <th>3</th>\n",
       "      <td>2022-01-05 00:00:00</td>\n",
       "      <td>0.038838</td>\n",
       "      <td>0.064881</td>\n",
       "      <td>0.160228</td>\n",
       "      <td>0.004656</td>\n",
       "      <td>-0.12336</td>\n",
       "      <td>0.024895</td>\n",
       "      <td>-0.038531</td>\n",
       "      <td>-0.010074</td>\n",
       "      <td>-0.073168</td>\n",
       "      <td>0.093695</td>\n",
       "    </tr>\n",
       "    <tr>\n",
       "      <th>4</th>\n",
       "      <td>2022-01-06 00:00:00</td>\n",
       "      <td>0.038578</td>\n",
       "      <td>0.062917</td>\n",
       "      <td>0.163401</td>\n",
       "      <td>0.011025</td>\n",
       "      <td>-0.12704</td>\n",
       "      <td>0.020864</td>\n",
       "      <td>-0.036297</td>\n",
       "      <td>-0.004963</td>\n",
       "      <td>-0.070497</td>\n",
       "      <td>0.088827</td>\n",
       "    </tr>\n",
       "    <tr>\n",
       "      <th>5</th>\n",
       "      <td>2022-01-07 00:00:00</td>\n",
       "      <td>0.037191</td>\n",
       "      <td>0.067316</td>\n",
       "      <td>0.16508</td>\n",
       "      <td>0.012791</td>\n",
       "      <td>-0.12563</td>\n",
       "      <td>0.018256</td>\n",
       "      <td>-0.042392</td>\n",
       "      <td>-0.005012</td>\n",
       "      <td>-0.072952</td>\n",
       "      <td>0.084836</td>\n",
       "    </tr>\n",
       "  </tbody>\n",
       "</table>\n",
       "</div>"
      ],
      "text/plain": [
       "                  Date    GBPEUR    GBPUSD    GBPCHF    GBPAUD   GBPJPY  \\\n",
       "1  2022-01-03 00:00:00  0.034417  0.058833  0.156028  0.003318 -0.13422   \n",
       "2  2022-01-04 00:00:00  0.039272   0.06276  0.156682  0.000321 -0.12484   \n",
       "3  2022-01-05 00:00:00  0.038838  0.064881  0.160228  0.004656 -0.12336   \n",
       "4  2022-01-06 00:00:00  0.038578  0.062917  0.163401  0.011025 -0.12704   \n",
       "5  2022-01-07 00:00:00  0.037191  0.067316   0.16508  0.012791 -0.12563   \n",
       "\n",
       "     GBPCAD    GBPSEK    GBPNZD    GBPNOK    GBPPLN  \n",
       "1  0.018315 -0.044198 -0.014144 -0.076295  0.090303  \n",
       "2  0.019264 -0.042018 -0.013697 -0.074404   0.09174  \n",
       "3  0.024895 -0.038531 -0.010074 -0.073168  0.093695  \n",
       "4  0.020864 -0.036297 -0.004963 -0.070497  0.088827  \n",
       "5  0.018256 -0.042392 -0.005012 -0.072952  0.084836  "
      ]
     },
     "execution_count": 47,
     "metadata": {},
     "output_type": "execute_result"
    }
   ],
   "source": [
    "rate_data.head()"
   ]
  },
  {
   "cell_type": "code",
   "execution_count": 48,
   "id": "03c6a120",
   "metadata": {},
   "outputs": [
    {
     "name": "stdout",
     "output_type": "stream",
     "text": [
      "<class 'pandas.core.frame.DataFrame'>\n",
      "RangeIndex: 571 entries, 1 to 571\n",
      "Data columns (total 11 columns):\n",
      " #   Column  Non-Null Count  Dtype \n",
      "---  ------  --------------  ----- \n",
      " 0   Date    570 non-null    object\n",
      " 1   GBPEUR  570 non-null    object\n",
      " 2   GBPUSD  570 non-null    object\n",
      " 3   GBPCHF  570 non-null    object\n",
      " 4   GBPAUD  570 non-null    object\n",
      " 5   GBPJPY  570 non-null    object\n",
      " 6   GBPCAD  570 non-null    object\n",
      " 7   GBPSEK  570 non-null    object\n",
      " 8   GBPNZD  570 non-null    object\n",
      " 9   GBPNOK  570 non-null    object\n",
      " 10  GBPPLN  570 non-null    object\n",
      "dtypes: object(11)\n",
      "memory usage: 49.2+ KB\n"
     ]
    }
   ],
   "source": [
    "rate_data.info(verbose=True, show_counts=True)"
   ]
  },
  {
   "cell_type": "code",
   "execution_count": 49,
   "id": "5fa429d8",
   "metadata": {},
   "outputs": [],
   "source": [
    "rate_data['Date'] = pd.to_datetime(rate_data['Date'])"
   ]
  },
  {
   "cell_type": "code",
   "execution_count": 50,
   "id": "92653997",
   "metadata": {},
   "outputs": [],
   "source": [
    "for col in rate_data.columns.drop('Date'):  \n",
    "    rate_data[col] = pd.to_numeric(rate_data[col], errors='coerce')"
   ]
  },
  {
   "cell_type": "code",
   "execution_count": 52,
   "id": "95383617",
   "metadata": {},
   "outputs": [
    {
     "data": {
      "text/html": [
       "<div>\n",
       "<style scoped>\n",
       "    .dataframe tbody tr th:only-of-type {\n",
       "        vertical-align: middle;\n",
       "    }\n",
       "\n",
       "    .dataframe tbody tr th {\n",
       "        vertical-align: top;\n",
       "    }\n",
       "\n",
       "    .dataframe thead th {\n",
       "        text-align: right;\n",
       "    }\n",
       "</style>\n",
       "<table border=\"1\" class=\"dataframe\">\n",
       "  <thead>\n",
       "    <tr style=\"text-align: right;\">\n",
       "      <th></th>\n",
       "      <th>Date</th>\n",
       "      <th>GBPEUR</th>\n",
       "      <th>GBPUSD</th>\n",
       "      <th>GBPCHF</th>\n",
       "      <th>GBPAUD</th>\n",
       "      <th>GBPJPY</th>\n",
       "      <th>GBPCAD</th>\n",
       "      <th>GBPSEK</th>\n",
       "      <th>GBPNZD</th>\n",
       "      <th>GBPNOK</th>\n",
       "      <th>GBPPLN</th>\n",
       "    </tr>\n",
       "  </thead>\n",
       "  <tbody>\n",
       "    <tr>\n",
       "      <th>1</th>\n",
       "      <td>2022-01-03</td>\n",
       "      <td>0.034417</td>\n",
       "      <td>0.058833</td>\n",
       "      <td>0.156028</td>\n",
       "      <td>0.003318</td>\n",
       "      <td>-0.13422</td>\n",
       "      <td>0.018315</td>\n",
       "      <td>-0.044198</td>\n",
       "      <td>-0.014144</td>\n",
       "      <td>-0.076295</td>\n",
       "      <td>0.090303</td>\n",
       "    </tr>\n",
       "    <tr>\n",
       "      <th>2</th>\n",
       "      <td>2022-01-04</td>\n",
       "      <td>0.039272</td>\n",
       "      <td>0.062760</td>\n",
       "      <td>0.156682</td>\n",
       "      <td>0.000321</td>\n",
       "      <td>-0.12484</td>\n",
       "      <td>0.019264</td>\n",
       "      <td>-0.042018</td>\n",
       "      <td>-0.013697</td>\n",
       "      <td>-0.074404</td>\n",
       "      <td>0.091740</td>\n",
       "    </tr>\n",
       "    <tr>\n",
       "      <th>3</th>\n",
       "      <td>2022-01-05</td>\n",
       "      <td>0.038838</td>\n",
       "      <td>0.064881</td>\n",
       "      <td>0.160228</td>\n",
       "      <td>0.004656</td>\n",
       "      <td>-0.12336</td>\n",
       "      <td>0.024895</td>\n",
       "      <td>-0.038531</td>\n",
       "      <td>-0.010074</td>\n",
       "      <td>-0.073168</td>\n",
       "      <td>0.093695</td>\n",
       "    </tr>\n",
       "    <tr>\n",
       "      <th>4</th>\n",
       "      <td>2022-01-06</td>\n",
       "      <td>0.038578</td>\n",
       "      <td>0.062917</td>\n",
       "      <td>0.163401</td>\n",
       "      <td>0.011025</td>\n",
       "      <td>-0.12704</td>\n",
       "      <td>0.020864</td>\n",
       "      <td>-0.036297</td>\n",
       "      <td>-0.004963</td>\n",
       "      <td>-0.070497</td>\n",
       "      <td>0.088827</td>\n",
       "    </tr>\n",
       "    <tr>\n",
       "      <th>5</th>\n",
       "      <td>2022-01-07</td>\n",
       "      <td>0.037191</td>\n",
       "      <td>0.067316</td>\n",
       "      <td>0.165080</td>\n",
       "      <td>0.012791</td>\n",
       "      <td>-0.12563</td>\n",
       "      <td>0.018256</td>\n",
       "      <td>-0.042392</td>\n",
       "      <td>-0.005012</td>\n",
       "      <td>-0.072952</td>\n",
       "      <td>0.084836</td>\n",
       "    </tr>\n",
       "  </tbody>\n",
       "</table>\n",
       "</div>"
      ],
      "text/plain": [
       "        Date    GBPEUR    GBPUSD    GBPCHF    GBPAUD   GBPJPY    GBPCAD  \\\n",
       "1 2022-01-03  0.034417  0.058833  0.156028  0.003318 -0.13422  0.018315   \n",
       "2 2022-01-04  0.039272  0.062760  0.156682  0.000321 -0.12484  0.019264   \n",
       "3 2022-01-05  0.038838  0.064881  0.160228  0.004656 -0.12336  0.024895   \n",
       "4 2022-01-06  0.038578  0.062917  0.163401  0.011025 -0.12704  0.020864   \n",
       "5 2022-01-07  0.037191  0.067316  0.165080  0.012791 -0.12563  0.018256   \n",
       "\n",
       "     GBPSEK    GBPNZD    GBPNOK    GBPPLN  \n",
       "1 -0.044198 -0.014144 -0.076295  0.090303  \n",
       "2 -0.042018 -0.013697 -0.074404  0.091740  \n",
       "3 -0.038531 -0.010074 -0.073168  0.093695  \n",
       "4 -0.036297 -0.004963 -0.070497  0.088827  \n",
       "5 -0.042392 -0.005012 -0.072952  0.084836  "
      ]
     },
     "execution_count": 52,
     "metadata": {},
     "output_type": "execute_result"
    }
   ],
   "source": [
    "rate_data.head()"
   ]
  },
  {
   "cell_type": "code",
   "execution_count": 53,
   "id": "a979da97",
   "metadata": {},
   "outputs": [
    {
     "name": "stdout",
     "output_type": "stream",
     "text": [
      "<class 'pandas.core.frame.DataFrame'>\n",
      "RangeIndex: 571 entries, 1 to 571\n",
      "Data columns (total 11 columns):\n",
      " #   Column  Non-Null Count  Dtype         \n",
      "---  ------  --------------  -----         \n",
      " 0   Date    570 non-null    datetime64[ns]\n",
      " 1   GBPEUR  570 non-null    float64       \n",
      " 2   GBPUSD  570 non-null    float64       \n",
      " 3   GBPCHF  570 non-null    float64       \n",
      " 4   GBPAUD  570 non-null    float64       \n",
      " 5   GBPJPY  570 non-null    float64       \n",
      " 6   GBPCAD  570 non-null    float64       \n",
      " 7   GBPSEK  570 non-null    float64       \n",
      " 8   GBPNZD  570 non-null    float64       \n",
      " 9   GBPNOK  570 non-null    float64       \n",
      " 10  GBPPLN  570 non-null    float64       \n",
      "dtypes: datetime64[ns](1), float64(10)\n",
      "memory usage: 49.2 KB\n"
     ]
    }
   ],
   "source": [
    "rate_data.info()"
   ]
  },
  {
   "cell_type": "code",
   "execution_count": null,
   "id": "21ad2d1d",
   "metadata": {},
   "outputs": [],
   "source": []
  }
 ],
 "metadata": {
  "kernelspec": {
   "display_name": "Python 3 (ipykernel)",
   "language": "python",
   "name": "python3"
  },
  "language_info": {
   "codemirror_mode": {
    "name": "ipython",
    "version": 3
   },
   "file_extension": ".py",
   "mimetype": "text/x-python",
   "name": "python",
   "nbconvert_exporter": "python",
   "pygments_lexer": "ipython3",
   "version": "3.10.13"
  }
 },
 "nbformat": 4,
 "nbformat_minor": 5
}
